{
  "cells": [
    {
      "cell_type": "markdown",
      "metadata": {
        "colab_type": "text",
        "id": "view-in-github"
      },
      "source": [
        "<a href=\"https://colab.research.google.com/github/udlbook/udlbook/blob/main/Notebooks/Chap10/10_2_Convolution_for_MNIST_1D.ipynb\" target=\"_parent\"><img src=\"https://colab.research.google.com/assets/colab-badge.svg\" alt=\"Open In Colab\"/></a>"
      ]
    },
    {
      "cell_type": "markdown",
      "metadata": {
        "id": "t9vk9Elugvmi"
      },
      "source": [
        "# **Notebook 10.2: Convolution for MNIST-1D**\n",
        "\n",
        "This notebook investigates a 1D convolutional network for MNIST-1D as in figure 10.7 and 10.8a.\n",
        "\n",
        "Work through the cells below, running each cell in turn. In various places you will see the words \"TO DO\". Follow the instructions at these places and make predictions about what is going to happen or write code to complete the functions.\n",
        "\n",
        "Contact me at udlbookmail@gmail.com if you find any mistakes or have any suggestions.\n",
        "\n"
      ]
    },
    {
      "cell_type": "code",
      "execution_count": 3,
      "metadata": {
        "id": "D5yLObtZCi9J"
      },
      "outputs": [
        {
          "name": "stdout",
          "output_type": "stream",
          "text": [
            "fatal: destination path 'mnist1d' already exists and is not an empty directory.\n"
          ]
        }
      ],
      "source": [
        "# Run this if you're in a Colab to make a local copy of the MNIST 1D repository\n",
        "!git clone https://github.com/greydanus/mnist1d"
      ]
    },
    {
      "cell_type": "code",
      "execution_count": 4,
      "metadata": {
        "id": "YrXWAH7sUWvU"
      },
      "outputs": [],
      "source": [
        "import numpy as np\n",
        "import os\n",
        "import torch, torch.nn as nn\n",
        "from torch.utils.data import TensorDataset, DataLoader\n",
        "from torch.optim.lr_scheduler import StepLR\n",
        "import matplotlib.pyplot as plt\n",
        "import mnist1d\n",
        "import random"
      ]
    },
    {
      "cell_type": "code",
      "execution_count": 5,
      "metadata": {
        "id": "twI72ZCrCt5z"
      },
      "outputs": [
        {
          "name": "stdout",
          "output_type": "stream",
          "text": [
            "Successfully loaded data from ./mnist1d_data.pkl\n",
            "Examples in training set: 4000\n",
            "Examples in test set: 1000\n",
            "Length of each example: 40\n"
          ]
        }
      ],
      "source": [
        "args = mnist1d.data.get_dataset_args()\n",
        "data = mnist1d.data.get_dataset(args, path='./mnist1d_data.pkl', download=False, regenerate=False)\n",
        "\n",
        "# The training and test input and outputs are in\n",
        "# data['x'], data['y'], data['x_test'], and data['y_test']\n",
        "print(\"Examples in training set: {}\".format(len(data['y'])))\n",
        "print(\"Examples in test set: {}\".format(len(data['y_test'])))\n",
        "print(\"Length of each example: {}\".format(data['x'].shape[-1]))"
      ]
    },
    {
      "cell_type": "code",
      "execution_count": 6,
      "metadata": {
        "id": "8bKADvLHbiV5"
      },
      "outputs": [
        {
          "name": "stdout",
          "output_type": "stream",
          "text": [
            "Train data: 4000 examples (columns), each of which has 40 dimensions (rows)\n",
            "Validation data: 1000 examples (columns), each of which has 40 dimensions (rows)\n"
          ]
        }
      ],
      "source": [
        "# Load in the data\n",
        "train_data_x = data['x'].transpose()\n",
        "train_data_y = data['y']\n",
        "val_data_x = data['x_test'].transpose()\n",
        "val_data_y = data['y_test']\n",
        "# Print out sizes\n",
        "print(\"Train data: %d examples (columns), each of which has %d dimensions (rows)\"%((train_data_x.shape[1],train_data_x.shape[0])))\n",
        "print(\"Validation data: %d examples (columns), each of which has %d dimensions (rows)\"%((val_data_x.shape[1],val_data_x.shape[0])))"
      ]
    },
    {
      "cell_type": "markdown",
      "metadata": {
        "id": "_sFvRDGrl4qe"
      },
      "source": [
        "Define the network"
      ]
    },
    {
      "cell_type": "code",
      "execution_count": 7,
      "metadata": {
        "id": "FslroPJJffrh"
      },
      "outputs": [],
      "source": [
        "# There are 40 input dimensions and 10 output dimensions for this data\n",
        "# The inputs correspond to the 40 offsets in the MNIST1D template.\n",
        "D_i = 40\n",
        "# The outputs correspond to the 10 digits\n",
        "D_o = 10\n",
        "\n",
        "\n",
        "# TODO Create a model with the following layers\n",
        "# 1. Convolutional layer, (input=length 40 and 1 channel, kernel size 3, stride 2, padding=\"valid\", 15 output channels )\n",
        "# 2. ReLU\n",
        "# 3. Convolutional layer, (input=length 19 and 15 channels, kernel size 3, stride 2, padding=\"valid\", 15 output channels )\n",
        "# 4. ReLU\n",
        "# 5. Convolutional layer, (input=length 9 and 15 channels, kernel size 3, stride 2, padding=\"valid\", 15 output channels)\n",
        "# 6. ReLU\n",
        "# 7. Flatten (converts 4x15) to length 60\n",
        "# 8. Linear layer (input size = 60, output size = 10)\n",
        "# References:\n",
        "# https://pytorch.org/docs/1.13/generated/torch.nn.Conv1d.html?highlight=conv1d#torch.nn.Conv1d\n",
        "# https://pytorch.org/docs/stable/generated/torch.nn.Flatten.html\n",
        "# https://pytorch.org/docs/1.13/generated/torch.nn.Linear.html?highlight=linear#torch.nn.Linear\n",
        "\n",
        "# NOTE THAT THE CONVOLUTIONAL LAYERS NEED TO TAKE THE NUMBER OF INPUT CHANNELS AS A PARAMETER\n",
        "# AND NOT THE INPUT SIZE.\n",
        "\n",
        "# Replace the following function:\n",
        "model = nn.Sequential(\n",
        "nn.Flatten(),\n",
        "nn.Linear(40, 100),\n",
        "nn.ReLU(),\n",
        "nn.Linear(100, 100),\n",
        "nn.ReLU(),\n",
        "nn.Linear(100, 10))\n",
        "\n",
        "model = nn.Sequential(\n",
        "nn.Conv1d(in_channels=1,kernel_size=3,stride=2,padding=\"valid\",out_channels=15),\n",
        "nn.ReLU(),\n",
        "nn.Conv1d(in_channels=15,kernel_size=3,stride=2,padding=\"valid\",out_channels=15),\n",
        "nn.ReLU(),\n",
        "nn.Conv1d(in_channels=15,kernel_size=3,stride=2,padding=\"valid\",out_channels=15),\n",
        "nn.ReLU(),\n",
        "nn.Flatten(),\n",
        "nn.Linear(60, 10))\n",
        "\n"
      ]
    },
    {
      "cell_type": "code",
      "execution_count": 8,
      "metadata": {
        "id": "YgLaex1pfhqz"
      },
      "outputs": [],
      "source": [
        "# He initialization of weights\n",
        "def weights_init(layer_in):\n",
        "  if isinstance(layer_in, nn.Linear):\n",
        "    nn.init.kaiming_uniform_(layer_in.weight)\n",
        "    layer_in.bias.data.fill_(0.0)"
      ]
    },
    {
      "cell_type": "code",
      "execution_count": 9,
      "metadata": {
        "id": "NYw8I_3mmX5c"
      },
      "outputs": [
        {
          "name": "stdout",
          "output_type": "stream",
          "text": [
            "Epoch     0, train loss 2.042889, train error 81.07,  val loss 2.016150, percent error 80.10\n",
            "Epoch     1, train loss 1.560471, train error 63.85,  val loss 1.580960, percent error 66.20\n",
            "Epoch     2, train loss 1.444509, train error 58.88,  val loss 1.461642, percent error 61.40\n",
            "Epoch     3, train loss 1.262429, train error 52.78,  val loss 1.270764, percent error 54.80\n",
            "Epoch     4, train loss 1.207832, train error 50.60,  val loss 1.239095, percent error 52.90\n",
            "Epoch     5, train loss 1.138890, train error 47.42,  val loss 1.164253, percent error 48.80\n",
            "Epoch     6, train loss 1.119302, train error 46.58,  val loss 1.131720, percent error 46.20\n",
            "Epoch     7, train loss 1.025361, train error 43.03,  val loss 1.051237, percent error 43.10\n",
            "Epoch     8, train loss 0.937048, train error 38.20,  val loss 0.959362, percent error 38.10\n",
            "Epoch     9, train loss 0.909127, train error 36.90,  val loss 0.964164, percent error 39.30\n",
            "Epoch    10, train loss 0.791378, train error 30.53,  val loss 0.856350, percent error 33.10\n",
            "Epoch    11, train loss 0.756183, train error 29.97,  val loss 0.808635, percent error 32.50\n",
            "Epoch    12, train loss 0.686849, train error 27.30,  val loss 0.781423, percent error 30.90\n",
            "Epoch    13, train loss 0.652106, train error 25.12,  val loss 0.734208, percent error 26.70\n",
            "Epoch    14, train loss 0.534968, train error 20.10,  val loss 0.642550, percent error 23.90\n",
            "Epoch    15, train loss 0.474685, train error 17.88,  val loss 0.567254, percent error 19.90\n",
            "Epoch    16, train loss 0.429711, train error 15.10,  val loss 0.545644, percent error 19.90\n",
            "Epoch    17, train loss 0.361214, train error 13.00,  val loss 0.491628, percent error 16.70\n",
            "Epoch    18, train loss 0.419797, train error 14.57,  val loss 0.533074, percent error 18.90\n",
            "Epoch    19, train loss 0.408990, train error 14.03,  val loss 0.565263, percent error 18.30\n",
            "Epoch    20, train loss 0.258717, train error 9.03,  val loss 0.392399, percent error 13.20\n",
            "Epoch    21, train loss 0.245707, train error 8.10,  val loss 0.396025, percent error 12.90\n",
            "Epoch    22, train loss 0.243254, train error 8.12,  val loss 0.412204, percent error 13.60\n",
            "Epoch    23, train loss 0.229979, train error 7.45,  val loss 0.379085, percent error 12.50\n",
            "Epoch    24, train loss 0.221921, train error 7.70,  val loss 0.395753, percent error 12.50\n",
            "Epoch    25, train loss 0.213785, train error 7.45,  val loss 0.391785, percent error 12.40\n",
            "Epoch    26, train loss 0.215466, train error 7.45,  val loss 0.417737, percent error 12.20\n",
            "Epoch    27, train loss 0.196731, train error 6.80,  val loss 0.361607, percent error 12.40\n",
            "Epoch    28, train loss 0.179906, train error 5.85,  val loss 0.361226, percent error 11.60\n",
            "Epoch    29, train loss 0.168612, train error 5.62,  val loss 0.374269, percent error 10.90\n",
            "Epoch    30, train loss 0.150055, train error 4.75,  val loss 0.367070, percent error 11.20\n",
            "Epoch    31, train loss 0.164580, train error 5.78,  val loss 0.384354, percent error 11.70\n",
            "Epoch    32, train loss 0.147092, train error 4.90,  val loss 0.402480, percent error 13.30\n",
            "Epoch    33, train loss 0.150385, train error 5.55,  val loss 0.374026, percent error 11.60\n",
            "Epoch    34, train loss 0.141391, train error 4.75,  val loss 0.383124, percent error 12.00\n",
            "Epoch    35, train loss 0.128622, train error 4.10,  val loss 0.364075, percent error 10.40\n",
            "Epoch    36, train loss 0.131262, train error 4.53,  val loss 0.363836, percent error 10.30\n",
            "Epoch    37, train loss 0.130429, train error 4.32,  val loss 0.368013, percent error 10.70\n",
            "Epoch    38, train loss 0.133527, train error 4.82,  val loss 0.397321, percent error 12.00\n",
            "Epoch    39, train loss 0.107431, train error 3.68,  val loss 0.362210, percent error 10.00\n",
            "Epoch    40, train loss 0.090444, train error 2.72,  val loss 0.370635, percent error 10.90\n",
            "Epoch    41, train loss 0.088262, train error 2.70,  val loss 0.366627, percent error 10.20\n",
            "Epoch    42, train loss 0.085523, train error 2.57,  val loss 0.383150, percent error 10.30\n",
            "Epoch    43, train loss 0.081347, train error 2.22,  val loss 0.381390, percent error 10.80\n",
            "Epoch    44, train loss 0.082572, train error 2.30,  val loss 0.385482, percent error 10.40\n",
            "Epoch    45, train loss 0.077123, train error 2.20,  val loss 0.373838, percent error 10.30\n",
            "Epoch    46, train loss 0.081239, train error 2.50,  val loss 0.373414, percent error 10.20\n",
            "Epoch    47, train loss 0.074664, train error 1.93,  val loss 0.400957, percent error 10.90\n",
            "Epoch    48, train loss 0.073559, train error 1.72,  val loss 0.399972, percent error 10.60\n",
            "Epoch    49, train loss 0.072569, train error 2.03,  val loss 0.410213, percent error 10.50\n",
            "Epoch    50, train loss 0.069989, train error 1.75,  val loss 0.412976, percent error 11.20\n",
            "Epoch    51, train loss 0.072363, train error 2.00,  val loss 0.403498, percent error 10.90\n",
            "Epoch    52, train loss 0.072368, train error 2.18,  val loss 0.426906, percent error 10.70\n",
            "Epoch    53, train loss 0.061727, train error 1.40,  val loss 0.397523, percent error 10.30\n",
            "Epoch    54, train loss 0.066235, train error 1.72,  val loss 0.396718, percent error 10.40\n",
            "Epoch    55, train loss 0.060802, train error 1.53,  val loss 0.413127, percent error 10.90\n",
            "Epoch    56, train loss 0.060691, train error 1.62,  val loss 0.417342, percent error 10.20\n",
            "Epoch    57, train loss 0.061885, train error 1.65,  val loss 0.415906, percent error 10.90\n",
            "Epoch    58, train loss 0.057507, train error 1.45,  val loss 0.426614, percent error 10.50\n",
            "Epoch    59, train loss 0.053583, train error 1.32,  val loss 0.419879, percent error 10.30\n",
            "Epoch    60, train loss 0.050562, train error 1.12,  val loss 0.415455, percent error 10.40\n",
            "Epoch    61, train loss 0.051009, train error 1.15,  val loss 0.425623, percent error 10.50\n",
            "Epoch    62, train loss 0.048181, train error 0.95,  val loss 0.409140, percent error 10.30\n",
            "Epoch    63, train loss 0.048617, train error 0.97,  val loss 0.412935, percent error 10.80\n",
            "Epoch    64, train loss 0.047856, train error 0.95,  val loss 0.422901, percent error 10.40\n",
            "Epoch    65, train loss 0.046421, train error 0.93,  val loss 0.414465, percent error 10.70\n",
            "Epoch    66, train loss 0.047611, train error 0.95,  val loss 0.421683, percent error 10.70\n",
            "Epoch    67, train loss 0.045197, train error 0.90,  val loss 0.421100, percent error 10.40\n",
            "Epoch    68, train loss 0.045029, train error 0.85,  val loss 0.421091, percent error 10.70\n",
            "Epoch    69, train loss 0.044333, train error 0.82,  val loss 0.424211, percent error 10.70\n",
            "Epoch    70, train loss 0.043670, train error 0.85,  val loss 0.428068, percent error 10.60\n",
            "Epoch    71, train loss 0.044102, train error 0.82,  val loss 0.426337, percent error 10.40\n",
            "Epoch    72, train loss 0.044421, train error 0.88,  val loss 0.431996, percent error 10.40\n",
            "Epoch    73, train loss 0.042406, train error 0.82,  val loss 0.436069, percent error 10.70\n",
            "Epoch    74, train loss 0.042148, train error 0.80,  val loss 0.430758, percent error 10.40\n",
            "Epoch    75, train loss 0.040852, train error 0.80,  val loss 0.428624, percent error 10.60\n",
            "Epoch    76, train loss 0.043091, train error 0.85,  val loss 0.440642, percent error 10.50\n",
            "Epoch    77, train loss 0.043133, train error 0.90,  val loss 0.437364, percent error 10.80\n",
            "Epoch    78, train loss 0.039626, train error 0.72,  val loss 0.434892, percent error 10.50\n",
            "Epoch    79, train loss 0.039560, train error 0.80,  val loss 0.426597, percent error 10.20\n",
            "Epoch    80, train loss 0.038476, train error 0.75,  val loss 0.440761, percent error 10.30\n",
            "Epoch    81, train loss 0.037885, train error 0.70,  val loss 0.435347, percent error 10.30\n",
            "Epoch    82, train loss 0.037942, train error 0.70,  val loss 0.437646, percent error 10.40\n",
            "Epoch    83, train loss 0.038201, train error 0.68,  val loss 0.434413, percent error 10.50\n",
            "Epoch    84, train loss 0.037218, train error 0.72,  val loss 0.439220, percent error 10.30\n",
            "Epoch    85, train loss 0.037370, train error 0.68,  val loss 0.445350, percent error 10.40\n",
            "Epoch    86, train loss 0.036687, train error 0.65,  val loss 0.445740, percent error 10.30\n",
            "Epoch    87, train loss 0.037342, train error 0.65,  val loss 0.434283, percent error 10.40\n",
            "Epoch    88, train loss 0.036698, train error 0.68,  val loss 0.443585, percent error 10.20\n",
            "Epoch    89, train loss 0.037408, train error 0.65,  val loss 0.444241, percent error 10.50\n",
            "Epoch    90, train loss 0.035924, train error 0.62,  val loss 0.443907, percent error 10.40\n",
            "Epoch    91, train loss 0.035885, train error 0.57,  val loss 0.442040, percent error 10.60\n",
            "Epoch    92, train loss 0.035852, train error 0.70,  val loss 0.452317, percent error 10.20\n",
            "Epoch    93, train loss 0.035549, train error 0.60,  val loss 0.448728, percent error 10.20\n",
            "Epoch    94, train loss 0.034961, train error 0.57,  val loss 0.448041, percent error 10.50\n",
            "Epoch    95, train loss 0.034749, train error 0.60,  val loss 0.448793, percent error 10.30\n",
            "Epoch    96, train loss 0.034747, train error 0.60,  val loss 0.445721, percent error 10.10\n",
            "Epoch    97, train loss 0.034298, train error 0.57,  val loss 0.447903, percent error 10.40\n",
            "Epoch    98, train loss 0.034572, train error 0.62,  val loss 0.451019, percent error 10.70\n",
            "Epoch    99, train loss 0.034313, train error 0.53,  val loss 0.445538, percent error 10.50\n"
          ]
        },
        {
          "data": {
            "image/png": "[encoded data removed]",
            "text/plain": [
              "<Figure size 640x480 with 1 Axes>"
            ]
          },
          "metadata": {},
          "output_type": "display_data"
        }
      ],
      "source": [
        "# choose cross entropy loss function (equation 5.24 in the loss notes)\n",
        "loss_function = nn.CrossEntropyLoss()\n",
        "# construct SGD optimizer and initialize learning rate and momentum\n",
        "optimizer = torch.optim.SGD(model.parameters(), lr = 0.05, momentum=0.9)\n",
        "# object that decreases learning rate by half every 20 epochs\n",
        "scheduler = StepLR(optimizer, step_size=20, gamma=0.5)\n",
        "# create 100 dummy data points and store in data loader class\n",
        "x_train = torch.tensor(train_data_x.transpose().astype('float32'))\n",
        "y_train = torch.tensor(train_data_y.astype('long')).long()\n",
        "x_val= torch.tensor(val_data_x.transpose().astype('float32'))\n",
        "y_val = torch.tensor(val_data_y.astype('long')).long()\n",
        "\n",
        "# load the data into a class that creates the batches\n",
        "data_loader = DataLoader(TensorDataset(x_train,y_train), batch_size=100, shuffle=True, worker_init_fn=np.random.seed(1))\n",
        "\n",
        "# Initialize model weights\n",
        "model.apply(weights_init)\n",
        "\n",
        "# loop over the dataset n_epoch times\n",
        "n_epoch = 100\n",
        "# store the loss and the % correct at each epoch\n",
        "losses_train = np.zeros((n_epoch))\n",
        "errors_train = np.zeros((n_epoch))\n",
        "losses_val = np.zeros((n_epoch))\n",
        "errors_val = np.zeros((n_epoch))\n",
        "\n",
        "for epoch in range(n_epoch):\n",
        "  # loop over batches\n",
        "  for i, data in enumerate(data_loader):\n",
        "    # retrieve inputs and labels for this batch\n",
        "    x_batch, y_batch = data\n",
        "    # zero the parameter gradients\n",
        "    optimizer.zero_grad()\n",
        "    # forward pass -- calculate model output\n",
        "    pred = model(x_batch[:,None,:])\n",
        "    # compute the loss\n",
        "    loss = loss_function(pred, y_batch)\n",
        "    # backward pass\n",
        "    loss.backward()\n",
        "    # SGD update\n",
        "    optimizer.step()\n",
        "\n",
        "  # Run whole dataset to get statistics -- normally wouldn't do this\n",
        "  pred_train = model(x_train[:,None,:])\n",
        "  pred_val = model(x_val[:,None,:])\n",
        "  _, predicted_train_class = torch.max(pred_train.data, 1)\n",
        "  _, predicted_val_class = torch.max(pred_val.data, 1)\n",
        "  errors_train[epoch] = 100 - 100 * (predicted_train_class == y_train).float().sum() / len(y_train)\n",
        "  errors_val[epoch]= 100 - 100 * (predicted_val_class == y_val).float().sum() / len(y_val)\n",
        "  losses_train[epoch] = loss_function(pred_train, y_train).item()\n",
        "  losses_val[epoch]= loss_function(pred_val, y_val).item()\n",
        "  print(f'Epoch {epoch:5d}, train loss {losses_train[epoch]:.6f}, train error {errors_train[epoch]:3.2f},  val loss {losses_val[epoch]:.6f}, percent error {errors_val[epoch]:3.2f}')\n",
        "\n",
        "  # tell scheduler to consider updating learning rate\n",
        "  scheduler.step()\n",
        "\n",
        "# Plot the results\n",
        "fig, ax = plt.subplots()\n",
        "ax.plot(errors_train,'r-',label='train')\n",
        "ax.plot(errors_val,'b-',label='validation')\n",
        "ax.set_ylim(0,100); ax.set_xlim(0,n_epoch)\n",
        "ax.set_xlabel('Epoch'); ax.set_ylabel('Error')\n",
        "ax.set_title('Part I: Validation Result %3.2f'%(errors_val[-1]))\n",
        "ax.legend()\n",
        "plt.show()"
      ]
    }
  ],
  "metadata": {
    "colab": {
      "authorship_tag": "ABX9TyNJodaaCLMRWL9vTl8B/iLI",
      "include_colab_link": true,
      "provenance": []
    },
    "kernelspec": {
      "display_name": "Python 3",
      "name": "python3"
    },
    "language_info": {
      "codemirror_mode": {
        "name": "ipython",
        "version": 3
      },
      "file_extension": ".py",
      "mimetype": "text/x-python",
      "name": "python",
      "nbconvert_exporter": "python",
      "pygments_lexer": "ipython3",
      "version": "3.11.6"
    }
  },
  "nbformat": 4,
  "nbformat_minor": 0
}
